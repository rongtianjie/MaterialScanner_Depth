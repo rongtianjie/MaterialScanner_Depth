{
 "cells": [
  {
   "cell_type": "code",
   "execution_count": 1,
   "metadata": {},
   "outputs": [
    {
     "name": "stdout",
     "output_type": "stream",
     "text": [
      "Jupyter environment detected. Enabling Open3D WebVisualizer.\n",
      "[Open3D INFO] WebRTC GUI backend enabled.\n",
      "[Open3D INFO] WebRTCWindowSystem: HTTP handshake server disabled.\n"
     ]
    }
   ],
   "source": [
    "import numpy as np\n",
    "import matplotlib.pyplot as plt\n",
    "import cv2\n",
    "import yaml\n",
    "from glob import glob\n",
    "import rawpy\n",
    "import zivid\n",
    "import os\n",
    "import open3d as o3d\n",
    "from tqdm import trange\n",
    "from calib import load_zdf_rgb, load_fuji_rgb, convert_16bit_to_8bit"
   ]
  },
  {
   "cell_type": "code",
   "execution_count": 2,
   "metadata": {},
   "outputs": [],
   "source": [
    "calib_path = \"../data/20221122/tile\"\n",
    "output_path = \"calib_result\"\n",
    "\n",
    "with open(\"calib_result/calib_result.yaml\") as f:\n",
    "    calib = yaml.safe_load(f)\n",
    "\n",
    "k1 = np.array(calib[\"k2\"])\n",
    "d1 = np.array(calib[\"d2\"])\n",
    "# k2 = np.array(calib[\"cameraMatrix2\"])\n",
    "# d2 = np.array(calib[\"distCoeffs2\"])\n",
    "R = np.array(calib[\"R\"])\n",
    "T = np.array(calib[\"T\"])\n",
    "RT = np.hstack((R, T))"
   ]
  },
  {
   "cell_type": "code",
   "execution_count": 3,
   "metadata": {},
   "outputs": [
    {
     "name": "stdout",
     "output_type": "stream",
     "text": [
      "xyz.shape: (1200, 1920, 3)\n",
      "rgb.shape: (1200, 1920, 3)\n"
     ]
    }
   ],
   "source": [
    "# load zivid point cloud\n",
    "with zivid.Application() as app:\n",
    "    frame = zivid.Frame(glob(os.path.join(calib_path, \"*.zdf\"))[0])\n",
    "    point_cloud = frame.point_cloud()\n",
    "    xyz = point_cloud.copy_data(\"xyz\")\n",
    "    rgba = point_cloud.copy_data(\"rgba\")\n",
    "    rgb = rgba[..., :3]\n",
    "\n",
    "print(\"xyz.shape:\", xyz.shape)\n",
    "print(\"rgb.shape:\", rgb.shape)"
   ]
  },
  {
   "cell_type": "code",
   "execution_count": 4,
   "metadata": {},
   "outputs": [
    {
     "name": "stdout",
     "output_type": "stream",
     "text": [
      "Load fuji img with shape (8733, 11644, 3)\n",
      "Load fuji img with shape (8733, 11644, 3)\n"
     ]
    }
   ],
   "source": [
    "calib_fuji_file = glob(os.path.join(calib_path, \"*.RAF\"))\n",
    "fuji_rgb1, fuji_rgb2 = load_fuji_rgb(calib_fuji_file[0]), load_fuji_rgb(calib_fuji_file[1])\n",
    "fuji_rgb = np.max(np.stack([fuji_rgb1, fuji_rgb2], axis=0), axis=0)\n",
    "\n",
    "fuji_rgb_8bit = convert_16bit_to_8bit(fuji_rgb)\n",
    "\n",
    "# rotate xyz 180 degrees\n",
    "xyz_ = xyz.copy()\n",
    "xyz_[:, :, :2] = np.negative(xyz_[:, :, :2])\n",
    "xyz_ = xyz_[:, 160:-160, :]\n",
    "rgb_ = rgb[:, 160:-160, :]\n",
    "\n",
    "# remove NaNs in xyz\n",
    "xyz_ = xyz_.reshape(-1, 3)\n",
    "rgb_= rgb_.reshape(-1, 3)\n",
    "\n",
    "rgb_ = rgb_[~np.isnan(xyz_).any(axis=1)]\n",
    "xyz_ = xyz_[~np.isnan(xyz_).any(axis=1)]\n",
    "\n",
    "# # preview point cloud\n",
    "# pcd = o3d.geometry.PointCloud()\n",
    "# pcd.points = o3d.utility.Vector3dVector(xyz_)\n",
    "# pcd.colors = o3d.utility.Vector3dVector(rgb_ / 255)\n",
    "# o3d.visualization.draw_geometries([pcd])"
   ]
  },
  {
   "cell_type": "code",
   "execution_count": 5,
   "metadata": {},
   "outputs": [
    {
     "name": "stderr",
     "output_type": "stream",
     "text": [
      "100%|██████████| 1875232/1875232 [00:20<00:00, 91512.17it/s]\n"
     ]
    }
   ],
   "source": [
    "# project xyz to img_f with k1, d1 and RT\n",
    "uv_ = []\n",
    "for i in trange(len(xyz_)):\n",
    "    uv = cv2.projectPoints(xyz_[i], R, T, k1, d1)[0]\n",
    "    uv_.append(uv)\n",
    "\n",
    "uv_ = np.array(uv_).reshape(-1, 2)"
   ]
  },
  {
   "cell_type": "code",
   "execution_count": 6,
   "metadata": {},
   "outputs": [
    {
     "data": {
      "text/plain": [
       "True"
      ]
     },
     "execution_count": 6,
     "metadata": {},
     "output_type": "execute_result"
    }
   ],
   "source": [
    "pcd = o3d.geometry.PointCloud()\n",
    "pcd.points = o3d.utility.Vector3dVector(xyz_)\n",
    "\n",
    "# fill the color of the point cloud with fuji_rgb_8bit values at uv_\n",
    "pcd.colors = o3d.utility.Vector3dVector(fuji_rgb_8bit[uv_[:, 1].astype(int), uv_[:, 0].astype(int), :]/255)\n",
    "# save pcd to ply\n",
    "o3d.io.write_point_cloud(os.path.join(output_path, \"pcd.ply\"), pcd)\n",
    "# visualize pcd\n",
    "# o3d.visualization.draw_geometries([pcd])"
   ]
  }
 ],
 "metadata": {
  "kernelspec": {
   "display_name": "Python 3.9.12 ('ma_39')",
   "language": "python",
   "name": "python3"
  },
  "language_info": {
   "codemirror_mode": {
    "name": "ipython",
    "version": 3
   },
   "file_extension": ".py",
   "mimetype": "text/x-python",
   "name": "python",
   "nbconvert_exporter": "python",
   "pygments_lexer": "ipython3",
   "version": "3.9.12"
  },
  "orig_nbformat": 4,
  "vscode": {
   "interpreter": {
    "hash": "5275a1aa1fb941e5c74f62f1411ab526b4f3a7a92203c83b1e23218f346aee50"
   }
  }
 },
 "nbformat": 4,
 "nbformat_minor": 2
}
