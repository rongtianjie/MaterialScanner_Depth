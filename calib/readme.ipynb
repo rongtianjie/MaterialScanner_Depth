{
 "cells": [
  {
   "cell_type": "code",
   "execution_count": null,
   "metadata": {},
   "outputs": [],
   "source": [
    "import numpy as np\n",
    "import matplotlib.pyplot as plt\n",
    "import cv2\n",
    "import os, sys\n",
    "import yaml\n",
    "from glob import glob\n",
    "from calib import *"
   ]
  },
  {
   "cell_type": "code",
   "execution_count": null,
   "metadata": {},
   "outputs": [],
   "source": [
    "calib_path = \"../data/20221122/calib\"\n",
    "data_path = \"../data/20221122/coaster\""
   ]
  },
  {
   "cell_type": "code",
   "execution_count": null,
   "metadata": {},
   "outputs": [],
   "source": [
    "calib_zivid_file = glob(os.path.join(calib_path, \"*.zdf\"))[0]\n",
    "zivid_rgb = load_zdf_rgb(calib_zivid_file)\n",
    "# plt.imshow(zivid_rgb)"
   ]
  },
  {
   "cell_type": "code",
   "execution_count": null,
   "metadata": {},
   "outputs": [],
   "source": [
    "calib_fuji_file = glob(os.path.join(calib_path, \"*.RAF\"))\n",
    "fuji_rgb1, fuji_rgb2 = load_fuji_rgb(calib_fuji_file[0]), load_fuji_rgb(calib_fuji_file[1])\n",
    "fuji_rgb = np.max(np.stack([fuji_rgb1, fuji_rgb2], axis=0), axis=0)\n",
    "\n",
    "fuji_rgb_8bit = convert_16bit_to_8bit(fuji_rgb)\n",
    "# plt.imshow(fuji_rgb_8bit)"
   ]
  },
  {
   "cell_type": "code",
   "execution_count": null,
   "metadata": {},
   "outputs": [],
   "source": [
    "tlbr = [[111, 3], [1580, 1141]]\n",
    "objpoints1, imgpoints1 = find_chessboard_corners_zivid(zivid_rgb, tlbr=tlbr)"
   ]
  }
 ],
 "metadata": {
  "kernelspec": {
   "display_name": "Python 3.9.12 ('ma_39')",
   "language": "python",
   "name": "python3"
  },
  "language_info": {
   "codemirror_mode": {
    "name": "ipython",
    "version": 3
   },
   "file_extension": ".py",
   "mimetype": "text/x-python",
   "name": "python",
   "nbconvert_exporter": "python",
   "pygments_lexer": "ipython3",
   "version": "3.9.12"
  },
  "orig_nbformat": 4,
  "vscode": {
   "interpreter": {
    "hash": "5275a1aa1fb941e5c74f62f1411ab526b4f3a7a92203c83b1e23218f346aee50"
   }
  }
 },
 "nbformat": 4,
 "nbformat_minor": 2
}
