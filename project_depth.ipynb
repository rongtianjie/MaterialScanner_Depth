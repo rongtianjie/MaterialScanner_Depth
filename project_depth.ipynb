{
 "cells": [
  {
   "cell_type": "code",
   "execution_count": null,
   "metadata": {},
   "outputs": [],
   "source": [
    "import numpy as np\n",
    "import matplotlib.pyplot as plt\n",
    "import cv2\n",
    "import yaml\n",
    "import glob\n",
    "import rawpy\n",
    "import zivid\n",
    "import os\n",
    "import open3d as o3d\n",
    "from tqdm import trange"
   ]
  },
  {
   "cell_type": "code",
   "execution_count": null,
   "metadata": {},
   "outputs": [],
   "source": [
    "path = \"data\"\n",
    "zdf1 = \"20221117_1013_calib_test.zdf\"\n",
    "cam2 = \"DSCF9210.RAF\" \n",
    "\n",
    "with open(os.path.join(path, \"calib_result.yaml\")) as f:\n",
    "    calib = yaml.safe_load(f)\n",
    "\n",
    "k1 = np.array(calib[\"k2\"])\n",
    "d1 = np.array(calib[\"d2\"])\n",
    "# k2 = np.array(calib[\"cameraMatrix2\"])\n",
    "# d2 = np.array(calib[\"distCoeffs2\"])\n",
    "R = np.array(calib[\"R\"])\n",
    "T = np.array(calib[\"T\"])\n",
    "E = np.array(calib[\"E\"])\n",
    "F = np.array(calib[\"F\"])\n",
    "RT = np.hstack((R, T))"
   ]
  },
  {
   "cell_type": "code",
   "execution_count": null,
   "metadata": {},
   "outputs": [],
   "source": [
    "# load zivid point cloud\n",
    "with zivid.Application() as app:\n",
    "    frame = zivid.Frame(os.path.join(path, zdf1))\n",
    "    point_cloud = frame.point_cloud()\n",
    "    xyz = point_cloud.copy_data(\"xyz\")\n",
    "    rgba = point_cloud.copy_data(\"rgba\")\n",
    "    xyzrgba = point_cloud.copy_data(\"xyzrgba\")\n",
    "    rgb = rgba[..., :3]\n",
    "\n",
    "print(\"xyz.shape:\", xyz.shape)\n",
    "print(\"rgb.shape:\", rgb.shape)\n",
    "print(\"xyzrgba.shape:\", xyzrgba.shape)"
   ]
  },
  {
   "cell_type": "code",
   "execution_count": null,
   "metadata": {},
   "outputs": [],
   "source": [
    "img_f = rawpy.imread(os.path.join(path, cam2)).postprocess(use_camera_wb=True, no_auto_bright=True, output_bps=8)[:8733, :11644]\n",
    "\n",
    "# rotate xyz 180 degrees\n",
    "xyz_ = xyz.copy()\n",
    "xyz_[:, :, :2] = np.negative(xyz[:, :, :2])\n",
    "# xyz = xyz[::-1, ::-1, :]\n",
    "xyz_ = xyz_[:, 160:-160, :]\n",
    "rgb_ = rgb[:, 160:-160, :]\n",
    "\n",
    "# remove NaNs in xyz\n",
    "xyz_ = xyz_.reshape(-1, 3)\n",
    "rgb_= rgb_.reshape(-1, 3)\n",
    "\n",
    "rgb_ = rgb_[~np.isnan(xyz_).any(axis=1)]\n",
    "xyz_ = xyz_[~np.isnan(xyz_).any(axis=1)]\n",
    "\n",
    "pcd = o3d.geometry.PointCloud()\n",
    "pcd.points = o3d.utility.Vector3dVector(xyz_)\n",
    "pcd.colors = o3d.utility.Vector3dVector(rgb_ / 255)\n",
    "o3d.visualization.draw_geometries([pcd])"
   ]
  },
  {
   "cell_type": "code",
   "execution_count": null,
   "metadata": {},
   "outputs": [],
   "source": [
    "# project xyz to img_f with k1 and RT\n",
    "uv_ = []\n",
    "\n",
    "for i in trange(len(xyz_)):\n",
    "    uv = cv2.projectPoints(xyz_[i], R, T, k1, d1)[0]\n",
    "    uv_.append(uv)\n",
    "\n",
    "uv_ = np.array(uv_).reshape(-1, 2)\n",
    "print(uv_)\n"
   ]
  },
  {
   "cell_type": "code",
   "execution_count": null,
   "metadata": {},
   "outputs": [],
   "source": [
    "pcd = o3d.geometry.PointCloud()\n",
    "pcd.points = o3d.utility.Vector3dVector(xyz_)\n",
    "\n",
    "# fill the color of the point cloud with img_f values at uv_\n",
    "pcd.colors = o3d.utility.Vector3dVector(img_f[uv_[:, 1].astype(int), uv_[:, 0].astype(int), :]/255)\n",
    "# save pcd to ply\n",
    "o3d.io.write_point_cloud(os.path.join(path, \"pcd.ply\"), pcd)\n",
    "# visualize pcd\n",
    "o3d.visualization.draw_geometries([pcd])"
   ]
  }
 ],
 "metadata": {
  "kernelspec": {
   "display_name": "Python 3.9.12 ('ma_39')",
   "language": "python",
   "name": "python3"
  },
  "language_info": {
   "codemirror_mode": {
    "name": "ipython",
    "version": 3
   },
   "file_extension": ".py",
   "mimetype": "text/x-python",
   "name": "python",
   "nbconvert_exporter": "python",
   "pygments_lexer": "ipython3",
   "version": "3.9.12"
  },
  "orig_nbformat": 4,
  "vscode": {
   "interpreter": {
    "hash": "5275a1aa1fb941e5c74f62f1411ab526b4f3a7a92203c83b1e23218f346aee50"
   }
  }
 },
 "nbformat": 4,
 "nbformat_minor": 2
}
