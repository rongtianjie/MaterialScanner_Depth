{
 "cells": [
  {
   "cell_type": "code",
   "execution_count": 1,
   "metadata": {},
   "outputs": [
    {
     "name": "stdout",
     "output_type": "stream",
     "text": [
      "Jupyter environment detected. Enabling Open3D WebVisualizer.\n",
      "[Open3D INFO] WebRTC GUI backend enabled.\n",
      "[Open3D INFO] WebRTCWindowSystem: HTTP handshake server disabled.\n"
     ]
    }
   ],
   "source": [
    "import numpy as np\n",
    "import matplotlib.pyplot as plt\n",
    "import cv2\n",
    "import yaml\n",
    "import glob\n",
    "import rawpy\n",
    "import zivid\n",
    "import os\n",
    "import open3d as o3d"
   ]
  },
  {
   "cell_type": "code",
   "execution_count": 2,
   "metadata": {},
   "outputs": [],
   "source": [
    "path = \"data\"\n",
    "zdf1 = \"20221117_1013_calib_test.zdf\"\n",
    "cam2 = \"DSCF9210.RAF\" \n",
    "\n",
    "with open(os.path.join(path, \"calib_result.yaml\")) as f:\n",
    "    calib = yaml.safe_load(f)\n",
    "\n",
    "k1 = np.array(calib[\"cameraMatrix1\"])\n",
    "d1 = np.array(calib[\"distCoeffs1\"])\n",
    "k2 = np.array(calib[\"cameraMatrix2\"])\n",
    "d2 = np.array(calib[\"distCoeffs2\"])\n",
    "R = np.array(calib[\"R\"])\n",
    "T = np.array(calib[\"T\"])\n",
    "E = np.array(calib[\"E\"])\n",
    "F = np.array(calib[\"F\"])\n",
    "RT = np.hstack((R, T))"
   ]
  },
  {
   "cell_type": "code",
   "execution_count": 3,
   "metadata": {},
   "outputs": [
    {
     "name": "stdout",
     "output_type": "stream",
     "text": [
      "xyz.shape: (1200, 1920, 3)\n",
      "rgb.shape: (1200, 1920, 3)\n",
      "xyzrgba.shape: (1200, 1920)\n"
     ]
    }
   ],
   "source": [
    "# load zivid point cloud\n",
    "with zivid.Application() as app:\n",
    "    frame = zivid.Frame(os.path.join(path, zdf1))\n",
    "    point_cloud = frame.point_cloud()\n",
    "    xyz = point_cloud.copy_data(\"xyz\")\n",
    "    rgba = point_cloud.copy_data(\"rgba\")\n",
    "    xyzrgba = point_cloud.copy_data(\"xyzrgba\")\n",
    "    rgb = rgba[..., :3]\n",
    "\n",
    "print(\"xyz.shape:\", xyz.shape)\n",
    "print(\"rgb.shape:\", rgb.shape)\n",
    "print(\"xyzrgba.shape:\", xyzrgba.shape)"
   ]
  },
  {
   "cell_type": "code",
   "execution_count": 4,
   "metadata": {},
   "outputs": [],
   "source": [
    "img_f = rawpy.imread(os.path.join(path, cam2)).postprocess(use_camera_wb=True, no_auto_bright=True, output_bps=8)[:8733, :11644]\n",
    "\n",
    "# rotate xyz 180 degrees\n",
    "xyz = xyz[::-1, ::-1, :]\n",
    "rgb = rgb[::-1, ::-1, :]\n",
    "xyz = xyz[:, 160:-160, :]\n",
    "rgb = rgb[:, 160:-160, :]"
   ]
  },
  {
   "cell_type": "code",
   "execution_count": 5,
   "metadata": {},
   "outputs": [
    {
     "name": "stdout",
     "output_type": "stream",
     "text": [
      "[[[          nan           nan]\n",
      "  [          nan           nan]\n",
      "  [          nan           nan]\n",
      "  ...\n",
      "  [          nan           nan]\n",
      "  [          nan           nan]\n",
      "  [          nan           nan]]\n",
      "\n",
      " [[          nan           nan]\n",
      "  [          nan           nan]\n",
      "  [          nan           nan]\n",
      "  ...\n",
      "  [3471.01958373 6984.45144948]\n",
      "  [3467.12523327 6984.3409704 ]\n",
      "  [3464.17381962 6983.77253182]]\n",
      "\n",
      " [[          nan           nan]\n",
      "  [          nan           nan]\n",
      "  [          nan           nan]\n",
      "  ...\n",
      "  [3471.06110365 6981.75109444]\n",
      "  [3467.66160248 6981.46394578]\n",
      "  [3463.94174505 6981.47099509]]\n",
      "\n",
      " ...\n",
      "\n",
      " [[          nan           nan]\n",
      "  [8724.91004473 3036.44365578]\n",
      "  [8721.84255509 3039.32937339]\n",
      "  ...\n",
      "  [3880.33072791 2957.21190894]\n",
      "  [3877.15372145 2956.7589376 ]\n",
      "  [3874.25242966 2956.77329587]]\n",
      "\n",
      " [[          nan           nan]\n",
      "  [          nan           nan]\n",
      "  [          nan           nan]\n",
      "  ...\n",
      "  [3880.44331653 2954.82347982]\n",
      "  [3877.27474938 2954.69326925]\n",
      "  [3874.21786574 2954.38389157]]\n",
      "\n",
      " [[          nan           nan]\n",
      "  [          nan           nan]\n",
      "  [          nan           nan]\n",
      "  ...\n",
      "  [          nan           nan]\n",
      "  [          nan           nan]\n",
      "  [          nan           nan]]]\n"
     ]
    }
   ],
   "source": [
    "# project xyz to img_f with k1 and RT\n",
    "xyz_ = xyz.reshape(-1, 3)\n",
    "# xyz_ = xyz_[xyz_[:, 2] > 0]\n",
    "xyz_ = np.hstack((xyz_, np.ones((xyz_.shape[0], 1))))\n",
    "xyz_f = RT @ xyz_.T\n",
    "\n",
    "uv = k1 @ xyz_f\n",
    "xyz_f = xyz_f.T.reshape(1200, 1600, 3)\n",
    "\n",
    "uv = uv.T\n",
    "uv = uv[:, :2] / uv[:, 2:]\n",
    "uv = uv.reshape(1200,1600,2)\n",
    "\n",
    "print(uv)"
   ]
  }
 ],
 "metadata": {
  "kernelspec": {
   "display_name": "Python 3.9.12 ('ma_39')",
   "language": "python",
   "name": "python3"
  },
  "language_info": {
   "codemirror_mode": {
    "name": "ipython",
    "version": 3
   },
   "file_extension": ".py",
   "mimetype": "text/x-python",
   "name": "python",
   "nbconvert_exporter": "python",
   "pygments_lexer": "ipython3",
   "version": "3.9.12"
  },
  "orig_nbformat": 4,
  "vscode": {
   "interpreter": {
    "hash": "5275a1aa1fb941e5c74f62f1411ab526b4f3a7a92203c83b1e23218f346aee50"
   }
  }
 },
 "nbformat": 4,
 "nbformat_minor": 2
}
